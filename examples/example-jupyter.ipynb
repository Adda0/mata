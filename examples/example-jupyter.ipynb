{
 "cells": [
  {
   "cell_type": "code",
   "execution_count": null,
   "id": "f41475c7",
   "metadata": {},
   "outputs": [],
   "source": [
    "import mata\n",
    "from IPython.display import SVG"
   ]
  },
  {
   "cell_type": "code",
   "execution_count": null,
   "id": "0950a0dc",
   "metadata": {},
   "outputs": [],
   "source": [
    "alphabet = mata.OnTheFlyAlphabet.for_symbol_names(['red', 'blue', 'yellow', 'black', 'white'])"
   ]
  },
  {
   "cell_type": "code",
   "execution_count": null,
   "id": "52d453b0",
   "metadata": {},
   "outputs": [],
   "source": [
    "lhs = mata.Nfa(3, alphabet)\n",
    "lhs.make_initial_state(0)\n",
    "lhs.add_trans_raw(0, alphabet.translate_symbol('red'), 1)\n",
    "lhs.add_trans_raw(0, alphabet.translate_symbol('yellow'), 1)\n",
    "lhs.add_trans_raw(1, alphabet.translate_symbol('blue'), 2)\n",
    "lhs.add_trans_raw(1, alphabet.translate_symbol('black'), 2)\n",
    "lhs.make_final_state(2)"
   ]
  },
  {
   "cell_type": "code",
   "execution_count": null,
   "id": "45eafb69",
   "metadata": {
    "pycharm": {
     "is_executing": true
    }
   },
   "outputs": [],
   "source": [
    "lhs.to_dot_file('lhs', 'svg')\n",
    "SVG(filename=\"./lhs.svg\")"
   ]
  },
  {
   "cell_type": "code",
   "execution_count": null,
   "id": "500b6508",
   "metadata": {},
   "outputs": [],
   "source": [
    "rhs = mata.Nfa(3, alphabet)\n",
    "rhs.make_initial_state(0)\n",
    "rhs.add_trans_raw(0, alphabet.translate_symbol('white'), 1)\n",
    "rhs.add_trans_raw(0, alphabet.translate_symbol('yellow'), 1)\n",
    "rhs.add_trans_raw(1, alphabet.translate_symbol('blue'), 2)\n",
    "rhs.add_trans_raw(1, alphabet.translate_symbol('red'), 2)\n",
    "rhs.make_final_state(2)"
   ]
  },
  {
   "cell_type": "code",
   "execution_count": null,
   "id": "a5017092",
   "metadata": {},
   "outputs": [],
   "source": [
    "rhs.to_dot_file('rhs', 'svg')\n",
    "SVG(filename=\"./rhs.svg\")"
   ]
  },
  {
   "cell_type": "code",
   "execution_count": null,
   "id": "85acd260",
   "metadata": {},
   "outputs": [],
   "source": [
    "union = mata.Nfa.union(lhs, rhs)"
   ]
  },
  {
   "cell_type": "code",
   "execution_count": null,
   "id": "e5c2bc57",
   "metadata": {},
   "outputs": [],
   "source": [
    "union.to_dot_file('union', 'svg')\n",
    "SVG(filename=\"./union.svg\")"
   ]
  },
  {
   "cell_type": "code",
   "execution_count": null,
   "id": "d1c8b052",
   "metadata": {},
   "outputs": [],
   "source": [
    "intersection, product_map = mata.Nfa.intersection_with_product_map(lhs, rhs)\n",
    "product_map"
   ]
  },
  {
   "cell_type": "code",
   "execution_count": null,
   "id": "a528c6c0",
   "metadata": {
    "scrolled": true
   },
   "outputs": [],
   "source": [
    "intersection.to_dot_file('intersection', 'svg')\n",
    "SVG(\"./intersection.svg\")"
   ]
  }
 ],
 "metadata": {
  "kernelspec": {
   "display_name": "Python 3",
   "language": "python",
   "name": "python3"
  },
  "language_info": {
   "codemirror_mode": {
    "name": "ipython",
    "version": 3
   },
   "file_extension": ".py",
   "mimetype": "text/x-python",
   "name": "python",
   "nbconvert_exporter": "python",
   "pygments_lexer": "ipython3",
   "version": "3.10.7"
  }
 },
 "nbformat": 4,
 "nbformat_minor": 5
}
