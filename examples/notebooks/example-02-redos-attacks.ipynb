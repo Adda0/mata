{
 "cells": [
  {
   "cell_type": "markdown",
   "id": "db8a351e",
   "metadata": {},
   "source": [
    "# Example 02: ReDoS Attacks\n",
    "In this example we will evaluate the `libmata` library and its resistance towards ReDoS attacks when used for validating input strings based on regular expressions.\n",
    "\n",
    "ReDoS attacks are quite common and pervasive in today's software, we can e.g. mention the StackOverflow outage, or other vulnerable regular expressions, that are available in public libraries (e.g. [email validation regex](https://regexlib.com/REDetails.aspx?regexp_id=1757)). Some approaches, that are inefficient, can lead to ReDoS, when they are fed particulary constructed string that forces quadratic number of backtracking in the matching algorithm.\n",
    "\n",
    "In this example, we will test the library on one of these regexes and on seleted malicious strings.\n",
    "\n",
    "#### Setup\n",
    "We will be using `libmata` library, `timeit` for timing of the matching phase, and `seaborn` library for visualizing the result."
   ]
  },
  {
   "cell_type": "code",
   "execution_count": 1,
   "id": "9675f7ef",
   "metadata": {},
   "outputs": [],
   "source": [
    "import libmata as mata\n",
    "import timeit\n",
    "import seaborn"
   ]
  },
  {
   "cell_type": "markdown",
   "id": "550a42a7",
   "metadata": {},
   "source": [
    "#### Helper functions\n",
    "Through the example we will use the following function to translate string to integer symbols. Since, we are not using any predefined alphabet, we will translate the symbols ourselves."
   ]
  },
  {
   "cell_type": "code",
   "execution_count": 2,
   "id": "e51babe2",
   "metadata": {},
   "outputs": [],
   "source": [
    "def translate_string(string: str) -> list[int]:\n",
    "    \"\"\"Translates the given string to list of integer symbols\n",
    "    \n",
    "    :param str string: translated string\n",
    "    :return: list of integers\n",
    "    \"\"\"\n",
    "    return [ord(c) for c in string]"
   ]
  },
  {
   "cell_type": "markdown",
   "id": "6981b6a9",
   "metadata": {},
   "source": [
    "#### Creating automaton for vulnerable regular expression\n",
    "\n",
    "We will use the regular expression from the following source: [email validation regex](https://regexlib.com/REDetails.aspx?regexp_id=1757))\n",
    "\n",
    "The main issue of the regular expression is, that it contains nested repetitions. These nested repetition then can lead to potential quadratic number of backtracing, when matching non-accepted string.\n",
    "\n",
    "We construct automaton using underlying `re2` library. We minimize and determinize the results.\n",
    "\n",
    "We omit the display of the result, since the resulting automaton is quite large. You can use the following to display the result:\n",
    "\n",
    "    mata.plot(lhs)"
   ]
  },
  {
   "cell_type": "code",
   "execution_count": 3,
   "id": "5f3796bc",
   "metadata": {},
   "outputs": [],
   "source": [
    "lhs = mata.Nfa.from_regex(\"^([a-zA-Z0-9])(([\\\\-.]|[_]+)?([a-zA-Z0-9]+))*(@){1}[a-z0-9]+[.]{1}(([a-z]{2,3})|([a-z]{2,3}[.]{1}[a-z]{2,3}))$\")\n",
    "lhs = mata.Nfa.minimize(mata.Nfa.determinize(lhs))"
   ]
  },
  {
   "cell_type": "markdown",
   "id": "5f95fcf3",
   "metadata": {},
   "source": [
    "#### Trying simple inputs\n",
    "First we will try accepted string. We check that valid email address `test@gmail.com` is in the language of the automaton.\n",
    "\n",
    "Further, we will time the `10000` executions of the matching algorithm, to measure how long the matching case takes."
   ]
  },
  {
   "cell_type": "code",
   "execution_count": 4,
   "id": "07f395c3",
   "metadata": {},
   "outputs": [
    {
     "data": {
      "text/plain": [
       "True"
      ]
     },
     "execution_count": 4,
     "metadata": {},
     "output_type": "execute_result"
    }
   ],
   "source": [
    "mata.Nfa.is_in_lang(lhs, translate_string(\"test@gmail.com\"))"
   ]
  },
  {
   "cell_type": "code",
   "execution_count": 5,
   "id": "5f62a099",
   "metadata": {},
   "outputs": [
    {
     "data": {
      "text/plain": [
       "2.662546300000031"
      ]
     },
     "execution_count": 5,
     "metadata": {},
     "output_type": "execute_result"
    }
   ],
   "source": [
    "timeit.timeit(lambda: mata.Nfa.is_in_lang(lhs, translate_string(\"test@gmail.com\")))"
   ]
  },
  {
   "cell_type": "markdown",
   "id": "3bf746b0",
   "metadata": {},
   "source": [
    "Next, we will try the non-accepted string. We check that invalid email address `testtgmaillcom` is not in the language of the automaton. Since, the string does not contain `@` nor `.` the matching can be potentially forced to backtrack.\n",
    "\n",
    "Again, we will time the `10000` executions of the matching algorithm, to measure how long the matching case takes. We can, see that the time does not differ that much between accepted and non-accepted string. In our experience, these non-matching cases already lead to performance degradation of even one order of magnitude."
   ]
  },
  {
   "cell_type": "code",
   "execution_count": 6,
   "id": "76d5c34e",
   "metadata": {},
   "outputs": [
    {
     "data": {
      "text/plain": [
       "False"
      ]
     },
     "execution_count": 6,
     "metadata": {},
     "output_type": "execute_result"
    }
   ],
   "source": [
    "mata.Nfa.is_in_lang(lhs, translate_string(\"testtgmaillcom\"))"
   ]
  },
  {
   "cell_type": "code",
   "execution_count": 7,
   "id": "56df6fff",
   "metadata": {},
   "outputs": [
    {
     "data": {
      "text/plain": [
       "2.62345649999952"
      ]
     },
     "execution_count": 7,
     "metadata": {},
     "output_type": "execute_result"
    }
   ],
   "source": [
    "timeit.timeit(lambda: mata.Nfa.is_in_lang(lhs, translate_string(\"testtgmaillcom\")))"
   ]
  },
  {
   "cell_type": "markdown",
   "id": "5c1b3e8e",
   "metadata": {},
   "source": [
    "####  Measuring the speed of the matching invalid email addresses\n",
    "In order to test more thoroughly whether `libmata` is not vulnerable against ReDoS attacks, we will measure invalid workloads (i.e. not accepted by automaton) with increased size. We repeat each matching just `10` times (knowing the threat to stability and validity), however, since this is only a rough experiment, we believe it wills suffice.\n",
    "\n",
    "We plot the result in linear plot."
   ]
  },
  {
   "cell_type": "code",
   "execution_count": 8,
   "id": "d08c08cc",
   "metadata": {},
   "outputs": [],
   "source": [
    "dataset = {'time': [], 'size': []}\n",
    "for i in range(0, 1000):\n",
    "    workload = \"testtgmaillcom\" + \"a\"*i\n",
    "    time = timeit.timeit(lambda: mata.Nfa.is_in_lang(lhs, translate_string(workload)), number=10)\n",
    "    dataset['time'].append(float(time))\n",
    "    dataset['size'].append(len(workload))"
   ]
  },
  {
   "cell_type": "code",
   "execution_count": 9,
   "id": "17d2e5c8",
   "metadata": {},
   "outputs": [
    {
     "data": {
      "text/plain": [
       "<AxesSubplot: xlabel='size', ylabel='time'>"
      ]
     },
     "execution_count": 9,
     "metadata": {},
     "output_type": "execute_result"
    },
    {
     "data": {
      "image/png": "[encoded data removed]",
      "text/plain": [
       "<Figure size 640x480 with 1 Axes>"
      ]
     },
     "metadata": {},
     "output_type": "display_data"
    }
   ],
   "source": [
    "seaborn.lineplot(dataset, x=\"size\", y=\"time\")"
   ]
  },
  {
   "cell_type": "markdown",
   "id": "0c9e6d2d",
   "metadata": {},
   "source": [
    "While, the results are quite unstable, we can still see that the matching of non-valid strings is still linear w.r.t size of the input. The `libmata` library is thus probably not vulnarable against ReDoS attacks (though more complex experiments are, sure, needed)."
   ]
  }
 ],
 "metadata": {
  "kernelspec": {
   "display_name": "Python 3 (ipykernel)",
   "language": "python",
   "name": "python3"
  },
  "language_info": {
   "codemirror_mode": {
    "name": "ipython",
    "version": 3
   },
   "file_extension": ".py",
   "mimetype": "text/x-python",
   "name": "python",
   "nbconvert_exporter": "python",
   "pygments_lexer": "ipython3",
   "version": "3.9.5"
  }
 },
 "nbformat": 4,
 "nbformat_minor": 5
}
