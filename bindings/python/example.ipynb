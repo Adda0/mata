{
 "cells": [
  {
   "cell_type": "code",
   "execution_count": 1,
   "id": "f41475c7",
   "metadata": {},
   "outputs": [],
   "source": [
    "import mata\n",
    "from IPython.display import IFrame"
   ]
  },
  {
   "cell_type": "code",
   "execution_count": 2,
   "id": "0950a0dc",
   "metadata": {},
   "outputs": [],
   "source": [
    "enum_alphabet = mata.EnumAlphabet(['red', 'blue', 'yellow', 'black', 'white'])"
   ]
  },
  {
   "cell_type": "code",
   "execution_count": 3,
   "id": "52d453b0",
   "metadata": {},
   "outputs": [],
   "source": [
    "lhs = mata.Nfa(3, enum_alphabet)\n",
    "lhs.add_initial_state(0)\n",
    "lhs.add_trans_raw(0, enum_alphabet.translate_symbol('red'), 1)\n",
    "lhs.add_trans_raw(0, enum_alphabet.translate_symbol('yellow'), 1)\n",
    "lhs.add_trans_raw(1, enum_alphabet.translate_symbol('blue'), 2)\n",
    "lhs.add_trans_raw(1, enum_alphabet.translate_symbol('black'), 2)\n",
    "lhs.add_final_state(2)"
   ]
  },
  {
   "cell_type": "code",
   "execution_count": 4,
   "id": "45eafb69",
   "metadata": {},
   "outputs": [
    {
     "data": {
      "text/html": [
       "\n",
       "        <iframe\n",
       "            width=\"600\"\n",
       "            height=\"300\"\n",
       "            src=\"./lhs.pdf\"\n",
       "            frameborder=\"0\"\n",
       "            allowfullscreen\n",
       "            \n",
       "        ></iframe>\n",
       "        "
      ],
      "text/plain": [
       "<IPython.lib.display.IFrame at 0x7f431062e550>"
      ]
     },
     "execution_count": 4,
     "metadata": {},
     "output_type": "execute_result"
    }
   ],
   "source": [
    "lhs.to_dot_file('lhs', 'pdf')\n",
    "IFrame(\"./lhs.pdf\", width=600, height=300)"
   ]
  },
  {
   "cell_type": "code",
   "execution_count": 9,
   "id": "500b6508",
   "metadata": {},
   "outputs": [],
   "source": [
    "rhs = mata.Nfa(3, enum_alphabet)\n",
    "rhs.add_initial_state(0)\n",
    "rhs.add_trans_raw(0, enum_alphabet.translate_symbol('white'), 1)\n",
    "rhs.add_trans_raw(0, enum_alphabet.translate_symbol('yellow'), 1)\n",
    "rhs.add_trans_raw(1, enum_alphabet.translate_symbol('blue'), 2)\n",
    "rhs.add_trans_raw(1, enum_alphabet.translate_symbol('red'), 2)\n",
    "rhs.add_final_state(2)"
   ]
  },
  {
   "cell_type": "code",
   "execution_count": 10,
   "id": "a5017092",
   "metadata": {},
   "outputs": [
    {
     "data": {
      "text/html": [
       "\n",
       "        <iframe\n",
       "            width=\"600\"\n",
       "            height=\"300\"\n",
       "            src=\"./rhs.pdf\"\n",
       "            frameborder=\"0\"\n",
       "            allowfullscreen\n",
       "            \n",
       "        ></iframe>\n",
       "        "
      ],
      "text/plain": [
       "<IPython.lib.display.IFrame at 0x7fccaee90e20>"
      ]
     },
     "execution_count": 10,
     "metadata": {},
     "output_type": "execute_result"
    }
   ],
   "source": [
    "rhs.to_dot_file('rhs', 'pdf')\n",
    "IFrame(\"./rhs.pdf\", width=600, height=300)"
   ]
  },
  {
   "cell_type": "code",
   "execution_count": 13,
   "id": "85acd260",
   "metadata": {},
   "outputs": [],
   "source": [
    "union = mata.Nfa.union(lhs, rhs)"
   ]
  },
  {
   "cell_type": "raw",
   "id": "c631eb30",
   "metadata": {},
   "source": [
    "union.to_dot_file('union', 'pdf')\n",
    "IFrame(\"./union.pdf\", width=600, height=300)"
   ]
  },
  {
   "cell_type": "code",
   "execution_count": 16,
   "id": "d1c8b052",
   "metadata": {},
   "outputs": [
    {
     "data": {
      "text/plain": [
       "{(2, 2): 2, (1, 1): 1, (0, 0): 0}"
      ]
     },
     "execution_count": 16,
     "metadata": {},
     "output_type": "execute_result"
    }
   ],
   "source": [
    "intersection, product_map = mata.Nfa.intersection(lhs, rhs)\n",
    "product_map"
   ]
  },
  {
   "cell_type": "code",
   "execution_count": 17,
   "id": "a528c6c0",
   "metadata": {},
   "outputs": [
    {
     "data": {
      "text/html": [
       "\n",
       "        <iframe\n",
       "            width=\"600\"\n",
       "            height=\"300\"\n",
       "            src=\"./intersection.pdf\"\n",
       "            frameborder=\"0\"\n",
       "            allowfullscreen\n",
       "            \n",
       "        ></iframe>\n",
       "        "
      ],
      "text/plain": [
       "<IPython.lib.display.IFrame at 0x7fccaee90ca0>"
      ]
     },
     "execution_count": 17,
     "metadata": {},
     "output_type": "execute_result"
    }
   ],
   "source": [
    "intersection.to_dot_file('intersection', 'pdf')\n",
    "IFrame(\"./intersection.pdf\", width=600, height=300)"
   ]
  }
 ],
 "metadata": {
  "kernelspec": {
   "display_name": "Python 3 (ipykernel)",
   "language": "python",
   "name": "python3"
  },
  "language_info": {
   "codemirror_mode": {
    "name": "ipython",
    "version": 3
   },
   "file_extension": ".py",
   "mimetype": "text/x-python",
   "name": "python",
   "nbconvert_exporter": "python",
   "pygments_lexer": "ipython3",
   "version": "3.8.10"
  }
 },
 "nbformat": 4,
 "nbformat_minor": 5
}
